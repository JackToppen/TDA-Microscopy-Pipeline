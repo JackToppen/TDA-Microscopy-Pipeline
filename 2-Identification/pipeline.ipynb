{
 "cells": [
  {
   "cell_type": "markdown",
   "id": "6f24a90f",
   "metadata": {},
   "source": [
    "# Cell type identification\n",
    "\n",
    "*Run the following blocks sequentially. Paths within some may need to be altered to local/desired paths for inputs/outputs.*\n",
    "\n",
    "#### Dependencies (if not installed)\n",
    "\n",
    "*Install the following libraries used for displaying identified cell type images before running the pipeline.*"
   ]
  },
  {
   "cell_type": "code",
   "execution_count": null,
   "id": "67902689",
   "metadata": {},
   "outputs": [],
   "source": [
    "install.packages(c(\"ggplot2\", \"ggforce\", \"cowplot\"))"
   ]
  },
  {
   "cell_type": "markdown",
   "id": "09f5da18",
   "metadata": {},
   "source": [
    "------------------------------------------------------------------------\n",
    "\n",
    "## Functions and paths\n",
    "\n",
    "*Pull generalized functions for processing the segmentation files.*"
   ]
  },
  {
   "cell_type": "code",
   "execution_count": null,
   "id": "e0a631fe",
   "metadata": {},
   "outputs": [],
   "source": [
    "# get helper functions\n",
    "source(\"utilities.R\")\n",
    "\n",
    "# specify location path of segmented microscopy CSVs\n",
    "csv_path <- \"~/Segmented\""
   ]
  },
  {
   "cell_type": "markdown",
   "id": "27344a76",
   "metadata": {},
   "source": [
    "## Normalize signals with nuclear signal\n",
    "\n",
    "*Based on cell nuclear stain, normalize other signal intensities to account for cell size, z-location, etc.*"
   ]
  },
  {
   "cell_type": "code",
   "execution_count": null,
   "id": "d9d5b066",
   "metadata": {},
   "outputs": [],
   "source": [
    "# recursively iterates through all segmentation CSV files in a directory\n",
    "normalize(csv_path)"
   ]
  },
  {
   "cell_type": "markdown",
   "id": "f0c29266",
   "metadata": {},
   "source": [
    "## Discretize channel intensities through generated thresholds\n",
    "\n",
    "*First generate thresholds based on baseline data then discretize cell expression into cell types.*"
   ]
  },
  {
   "cell_type": "code",
   "execution_count": null,
   "id": "b41e87a6",
   "metadata": {},
   "outputs": [],
   "source": [
    "# indicate what percentile to generate threshold from (Ex. 75)\n",
    "percentile <- 75\n",
    "\n",
    "# specify directory paths of baseline CSVs for each threshold (one per channel)\n",
    "gfp_thresh_path <- \"~/Segmented/25\"\n",
    "rfp_thresh_path <- \"~/Segmented/0\"\n",
    "\n",
    "# generate respective channel thresholds (1, ..., n) for discretizing cell intensities (here two are used)\n",
    "paths <- c(gfp_thresh_path, rfp_thresh_path)    # in order as listed in segmentation CSV\n",
    "thresholds <- get_thresholds(percentile, paths)\n",
    "\n",
    "# -------------------------------------------------------------------------------------------\n",
    "\n",
    "# specify addition directory path for outputting new (percentile-specific) CSVs with identified cells\n",
    "iden_path <- \"~/Identified/75\"\n",
    "\n",
    "# generate new CSVs with discretized expression intensities (cell types)\n",
    "identify(csv_path, iden_path, thresholds)"
   ]
  },
  {
   "cell_type": "markdown",
   "id": "04ed25a7",
   "metadata": {},
   "source": [
    "## Generate images displaying cell types\n",
    "\n",
    "*Using the cell positions and identified types, generate pseudo-microscopy images.*"
   ]
  },
  {
   "cell_type": "code",
   "execution_count": null,
   "id": "ddd3311b",
   "metadata": {},
   "outputs": [],
   "source": [
    "# cell type image output parameters (in pixels)\n",
    "size <- 5    # cell radius\n",
    "outline <- 1   # cell outline (in black for overlap)\n",
    "resolution <- 1500    # width of image\n",
    "\n",
    "# CSV for specifying cell colors based on discretized cell expression (Boolean string)\n",
    "colors_path <- \"cell_colors.csv\"\n",
    "\n",
    "# specify path location of discretized CSVs and image output\n",
    "iden_path <- \"~/Identified/75\"\n",
    "image_path <- \"~/Images/75\"\n",
    "\n",
    "# generate images from identified cell types\n",
    "generate_images(iden_path, image_path, colors_path, size, outline, resolution)"
   ]
  }
 ],
 "metadata": {
  "jupytext": {
   "cell_metadata_filter": "-all",
   "main_language": "R",
   "notebook_metadata_filter": "-all"
  }
 },
 "nbformat": 4,
 "nbformat_minor": 5
}
