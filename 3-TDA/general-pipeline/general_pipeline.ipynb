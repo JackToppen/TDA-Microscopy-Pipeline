{
 "cells": [
  {
   "cell_type": "raw",
   "id": "dc34ae76",
   "metadata": {
    "lines_to_next_cell": 0
   },
   "source": [
    "---\n",
    "title: \"Topological data analysis\"\n",
    "output:\n",
    "  html_document:\n",
    "   df_print: paged\n",
    "---"
   ]
  },
  {
   "cell_type": "markdown",
   "id": "bc4c8a39",
   "metadata": {},
   "source": [
    "#### Dependencies\n",
    "*Install the following libraries before running the TDA pipeline.*"
   ]
  },
  {
   "cell_type": "code",
   "execution_count": null,
   "id": "50dcb605",
   "metadata": {
    "lines_to_next_cell": 0
   },
   "outputs": [],
   "source": [
    "install.packages(c(\"TDA\", \"Matrix\"))"
   ]
  },
  {
   "cell_type": "markdown",
   "id": "591054ca",
   "metadata": {},
   "source": [
    "---------------------------\n",
    "\n",
    "### Load libraries"
   ]
  },
  {
   "cell_type": "code",
   "execution_count": null,
   "id": "74405a30",
   "metadata": {
    "name": "libraries"
   },
   "outputs": [],
   "source": [
    "library(\"Matrix\") #package for sparse matrices\n",
    "library(\"TDA\")"
   ]
  },
  {
   "cell_type": "markdown",
   "id": "04f652b0",
   "metadata": {},
   "source": [
    "### Set working directory"
   ]
  },
  {
   "cell_type": "code",
   "execution_count": null,
   "id": "16cf4d24",
   "metadata": {
    "name": "directory"
   },
   "outputs": [],
   "source": [
    "working_dir_path <- setwd(\"~/Documents/GitHub/TDA-Microscopy-Pipeline/TDA/general-pipeline\")"
   ]
  },
  {
   "cell_type": "markdown",
   "id": "f81ac65d",
   "metadata": {},
   "source": [
    "### Load necessary functions"
   ]
  },
  {
   "cell_type": "code",
   "execution_count": null,
   "id": "71acb3f0",
   "metadata": {
    "name": "functions"
   },
   "outputs": [],
   "source": [
    "source(\"utilities.R\")"
   ]
  },
  {
   "cell_type": "markdown",
   "id": "486b4675",
   "metadata": {},
   "source": [
    "### Create a folder with a subfolder for each data group for storing saved tda computations\n",
    "*You only need to run this block once*"
   ]
  },
  {
   "cell_type": "code",
   "execution_count": null,
   "id": "91288d54",
   "metadata": {
    "name": "folders"
   },
   "outputs": [],
   "source": [
    "dir.create(\"saved_computations\", showWarnings = FALSE)\n",
    "saved_computations <- concat_path(working_dir_path, \"saved_computations\")\n",
    "\n",
    "#choose names for two data groups\n",
    "groups <- list(\"group_0\", \"group_25\")\n",
    "\n",
    "for (i in 1:length(groups)){\n",
    "  dir.create(concat_path(saved_computations,groups[i]),  showWarnings = FALSE)\n",
    "}"
   ]
  },
  {
   "cell_type": "markdown",
   "id": "66421896",
   "metadata": {},
   "source": [
    "### Create a single csv file for storing necessary parameters (max birth and max death) obtained from all data groups\n",
    "*You only need to run this block once; after running it once comment it out*"
   ]
  },
  {
   "cell_type": "code",
   "execution_count": null,
   "id": "836c71bf",
   "metadata": {
    "name": "parameters-file"
   },
   "outputs": [],
   "source": [
    "max_values <- data.frame(matrix(ncol = 2, nrow = 0))\n",
    "colnames(max_values) <- c(\"maxbirth\", \"maxdeath\")  \n",
    "\n",
    "write.csv(max_values, concat_path(saved_computations,\"max-values.csv\"), row.names=FALSE)"
   ]
  },
  {
   "cell_type": "markdown",
   "id": "e42dd4fc",
   "metadata": {},
   "source": [
    "### Choose cell types"
   ]
  },
  {
   "cell_type": "code",
   "execution_count": null,
   "id": "510618f8",
   "metadata": {
    "name": "cell-types"
   },
   "outputs": [],
   "source": [
    "#specify location path of the file with the cell type codes and their colors\n",
    "cell_types_path <- \"~/Documents/GitHub/TDA-Microscopy-Pipeline/Identification/cell_colors.csv\"\n",
    "\n",
    "#read all cell type codes from your designated file\n",
    "cell_types_file <- read.csv(cell_types_path)\n",
    "all_cell_types <- cell_types_file$Code\n",
    "\n",
    "# indicate cell types for only including specific cells \n",
    "cell_types <- all_cell_types[2]   # this can either be a single value or a vector\n",
    "\n",
    "index <- NaN    # default index for cell types is the last column\n",
    "\n",
    "sprintf(\"Cell types used: %s\", paste(cell_types, collapse=\", \"))"
   ]
  },
  {
   "cell_type": "markdown",
   "id": "a536850f",
   "metadata": {},
   "source": [
    "## I. Choose a data group and its location"
   ]
  },
  {
   "cell_type": "code",
   "execution_count": null,
   "id": "3c829687",
   "metadata": {
    "name": "data-groups"
   },
   "outputs": [],
   "source": [
    "#choose a group folder where to save computations\n",
    "group <- \"group_0\"\n",
    "\n",
    "# specify location path of the csv files of that group\n",
    "csv_dir_path <- \"~/Documents/GitHub/TDA-Microscopy-Pipeline/Discretized-images/0\""
   ]
  },
  {
   "cell_type": "markdown",
   "id": "c44b2dfb",
   "metadata": {},
   "source": [
    "## II. Compute persistence diagrams and save them\n",
    "*We use Delaunay complex filtration to compute persistence diagrams*"
   ]
  },
  {
   "cell_type": "code",
   "execution_count": null,
   "id": "edd79071",
   "metadata": {
    "name": "PDs"
   },
   "outputs": [],
   "source": [
    "compute_PDs(csv_dir_path, group, saved_computations, cell_types, index)"
   ]
  },
  {
   "cell_type": "markdown",
   "id": "6aca895b",
   "metadata": {},
   "source": [
    "## III. Determine the max birth and max death among all data files\n",
    "*This is crucial for VI block and will ensure that all plots from both groups have the same scale*"
   ]
  },
  {
   "cell_type": "code",
   "execution_count": null,
   "id": "cbc4fe36",
   "metadata": {
    "name": "parameters"
   },
   "outputs": [],
   "source": [
    "#Before running this block, compute persistence diagrams for all data groups (i.e choose another data group and specify its location in I-block, and compute its persistence diagrams in II-block) \n",
    "\n",
    "max_values <- read.csv(concat_path(saved_computations, \"max-values.csv\"))\n",
    "\n",
    "max_birth <- max(max_values$maxbirth)\n",
    "max_death <- max(max_values$maxdeath)"
   ]
  },
  {
   "cell_type": "markdown",
   "id": "ef58084d",
   "metadata": {},
   "source": [
    "### Plot persistence diagrams"
   ]
  },
  {
   "cell_type": "code",
   "execution_count": null,
   "id": "4f65c453",
   "metadata": {
    "name": "plot-PDs"
   },
   "outputs": [],
   "source": [
    "save_plot <- TRUE #set FALSE if you don't want to save plots\n",
    "\n",
    "plot_PDs(group, max_birth, max_death, saved_computations, save_plot)"
   ]
  },
  {
   "cell_type": "markdown",
   "id": "010d2696",
   "metadata": {},
   "source": [
    "### Plot representative cycles that persist (live) over a certain threshold"
   ]
  },
  {
   "cell_type": "code",
   "execution_count": null,
   "id": "43afc5a8",
   "metadata": {
    "name": "plot-cycles"
   },
   "outputs": [],
   "source": [
    "#choose a persistence threshold\n",
    "persist_threshold <- 20 \n",
    "\n",
    "save_plot <- TRUE #set FALSE if you don't want to save plots\n",
    "\n",
    "#plot representative cycles with persistence above the chosen threshold\n",
    "plot_representative_cycles(csv_dir_path, cell_types, persist_threshold, group, saved_computations, save_plot)"
   ]
  },
  {
   "cell_type": "markdown",
   "id": "17c1138e",
   "metadata": {},
   "source": [
    "## IV. Compute persistence landscapes and save them\n",
    "*You need to have persistence diagrams computed first*"
   ]
  },
  {
   "cell_type": "code",
   "execution_count": null,
   "id": "2934a072",
   "metadata": {
    "name": "PLs"
   },
   "outputs": [],
   "source": [
    "#choose a discretization step (use the same for all groups)\n",
    "discr_step <- 0.3\n",
    "\n",
    "save_computations_csv <- FALSE #set TRUE if additionally to saving persistence landscapes in RData format you want to save each of them in a separate csv file. This option is provided if, for example, you plan to use persistence landscapes for further analysis in another programming language. Note that in a csv file row k corresponds to a persistence landscape function at depth k, where depth 1 corresponds to a outermost persistence landscape function, and column names correspond to x-values. \n",
    "\n",
    "compute_PLs(group, max_birth, max_death, discr_step, saved_computations, save_computations_csv)"
   ]
  },
  {
   "cell_type": "markdown",
   "id": "bb1707e2",
   "metadata": {},
   "source": [
    "### Plot persistence landscapes "
   ]
  },
  {
   "cell_type": "code",
   "execution_count": null,
   "id": "671a33ce",
   "metadata": {
    "name": "plot-PLs"
   },
   "outputs": [],
   "source": [
    "save_plot <- TRUE #set FALSE if you don't want to save plots\n",
    "\n",
    "plot_PLs(group, max_birth, max_death, discr_step, saved_computations, save_plot)"
   ]
  },
  {
   "cell_type": "markdown",
   "id": "8bd7b376",
   "metadata": {},
   "source": [
    "## V. Compute the average persistence landscape and save it\n",
    "*You need to have persistence landscapes computed first*"
   ]
  },
  {
   "cell_type": "code",
   "execution_count": null,
   "id": "cf7fcb3c",
   "metadata": {
    "name": "average-PLs"
   },
   "outputs": [],
   "source": [
    "compute_avgPL(group, max_birth, max_death, discr_step, saved_computations)"
   ]
  },
  {
   "cell_type": "markdown",
   "id": "851fa8db",
   "metadata": {},
   "source": [
    "### Plot the average persistence landscape"
   ]
  },
  {
   "cell_type": "code",
   "execution_count": null,
   "id": "55e815c3",
   "metadata": {
    "name": "plot-average-PLs"
   },
   "outputs": [],
   "source": [
    "save_plot <- TRUE #set FALSE if you don't want to save plots\n",
    "\n",
    "plot_avgPL(group, max_birth, max_death, discr_step, saved_computations, save_plot)"
   ]
  },
  {
   "cell_type": "markdown",
   "id": "d53a83a1",
   "metadata": {},
   "source": [
    "## At this point, you need to have computed persistence diagrams, persistence landscapes, and average persistence landscapes for BOTH groups\n",
    "\n",
    "-----------------\n",
    "\n",
    "## VI. Plot the difference of average persistence landscapes of two data groups\n",
    "*You need to have computed average persistence landscapes for both groups (make sure that they were plotted on the same scale)*"
   ]
  },
  {
   "cell_type": "code",
   "execution_count": null,
   "id": "fa820757",
   "metadata": {
    "name": "difference-plot"
   },
   "outputs": [],
   "source": [
    "save_plot <- TRUE #set FALSE if you don't want to save plots\n",
    "\n",
    "#avgPL of groups[0] - avgPL of groups[1]\n",
    "plot_avgPLs_difference(groups, max_birth, max_death, discr_step, saved_computations, save_plot) "
   ]
  },
  {
   "cell_type": "markdown",
   "id": "57702a54",
   "metadata": {},
   "source": [
    "## VII. Perform a permutation test on persistence landscapes from two data groups\n",
    "*You need to have computed persistence landscapes for both groups*"
   ]
  },
  {
   "cell_type": "code",
   "execution_count": null,
   "id": "b95da4d8",
   "metadata": {
    "lines_to_next_cell": 0,
    "name": "permutation-test"
   },
   "outputs": [],
   "source": [
    "#number of permutations\n",
    "num_repeats <- 10000\n",
    "\n",
    "permutation_test_for_PLs(groups, saved_computations, num_repeats)"
   ]
  },
  {
   "cell_type": "markdown",
   "id": "e387ec4a",
   "metadata": {},
   "source": []
  }
 ],
 "metadata": {
  "jupytext": {
   "cell_metadata_filter": "name,-all",
   "main_language": "R",
   "notebook_metadata_filter": "-all"
  }
 },
 "nbformat": 4,
 "nbformat_minor": 5
}
