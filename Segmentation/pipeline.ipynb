{
 "cells": [
  {
   "cell_type": "code",
   "execution_count": null,
   "id": "8738b48d",
   "metadata": {},
   "outputs": [],
   "source": [
    "import os\n",
    "import pandas as pd\n",
    "from tifffile import tifffile\n",
    "\n",
    "import utilities"
   ]
  },
  {
   "cell_type": "code",
   "execution_count": null,
   "id": "75d7a5b8",
   "metadata": {},
   "outputs": [],
   "source": [
    "# location of images to segment (directory will be searched recursively)\n",
    "input_path = \"/Users/jacktoppen/Research/TDA/Microscopy_images/Test/\"\n",
    "match = \"merged.tif\"   # search criteria for images (e.g. \".tif\")\n",
    "\n",
    "# output location for segmentation CSVs\n",
    "output_path = \"/Users/jacktoppen/Research/TDA/Microscopy_images/Test/\"\n",
    "\n",
    "# nuclear stain position\n",
    "nuc_name = \"dapi\"\n",
    "nuc_index = 2\n",
    "\n",
    "# indicate channels (beyond cell nuclei stain) and their channel positions\n",
    "channels = {\"gfp\": 1, \"rfp\": 0}\n",
    "\n",
    "bit_depth = 16    # change to 8 if your image intensity maximum is 255"
   ]
  },
  {
   "cell_type": "code",
   "execution_count": null,
   "id": "91c59570",
   "metadata": {},
   "outputs": [],
   "source": [
    "# get all images in input directory\n",
    "image_paths = get_images(input_path, match)\n",
    "\n",
    "# run the segmentation calculation on each image\n",
    "for path in image_paths:\n",
    "    # read the image\n",
    "    image = tifffile.imread(input_path + path)\n",
    "\n",
    "    # get the nuclear stain channel and segmen the image based on this\n",
    "    nuc_channel = image[nuc_index]\n",
    "    nuc_seg = segmentation(nuc_channel)\n",
    "\n",
    "    # create path to CSV file\n",
    "    csv_path = output_path + os.path.splitext(path)[0] + \".csv\"\n",
    "\n",
    "    # make sure directories exist for CSV file\n",
    "    dir_path = os.path.split(csv_path)[0]\n",
    "    os.makedirs(dir_path, exist_ok=True)\n",
    "\n",
    "    # return the detected objects that are identified as cells\n",
    "    x_pos, y_pos, cells = identify_cells(nuc_seg)\n",
    "\n",
    "    # get the DAPI intensities and generated image\n",
    "    nuc_intensities, out_image = overlay_cells(nuc_channel, cells)\n",
    "    out_path = os.path.join(dir_path, nuc_name + \".png\")\n",
    "    # plot(out_image, out_path, bit_depth)    # save the image\n",
    "\n",
    "    # create dictionary for storing cell specific values\n",
    "    data = {\"X\": x_pos, \"Y\": y_pos, nuc_name: nuc_intensities}\n",
    "\n",
    "    # iterate through the channels, quantifying signal in each\n",
    "    for name in channels.keys():\n",
    "        # get expression channel from image\n",
    "        index = channels[name]\n",
    "        channel = image[index]\n",
    "\n",
    "        # calculate intensities\n",
    "        intensities, out_image = overlay_cells(channel, cells)\n",
    "        data[name] = intensities\n",
    "        out_path = os.path.join(dir_path, name + \".png\")\n",
    "        # plot(out_image, out_path, bit_depth)    # save the image\n",
    "\n",
    "    # save cell locations and signal intensities to CSV\n",
    "    df = pd.DataFrame(data)\n",
    "    df.to_csv(csv_path, index=False)"
   ]
  }
 ],
 "metadata": {
  "kernelspec": {
   "display_name": "Python 3 (ipykernel)",
   "language": "python",
   "name": "python3"
  },
  "language_info": {
   "codemirror_mode": {
    "name": "ipython",
    "version": 3
   },
   "file_extension": ".py",
   "mimetype": "text/x-python",
   "name": "python",
   "nbconvert_exporter": "python",
   "pygments_lexer": "ipython3",
   "version": "3.9.13"
  }
 },
 "nbformat": 4,
 "nbformat_minor": 5
}
