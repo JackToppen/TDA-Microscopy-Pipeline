{
 "cells": [
  {
   "cell_type": "markdown",
   "id": "6299a98b",
   "metadata": {},
   "source": [
    "## Dependencies"
   ]
  },
  {
   "cell_type": "code",
   "execution_count": 1,
   "id": "6408717e",
   "metadata": {},
   "outputs": [],
   "source": [
    "# load required libraries and utilities.py functions\n",
    "import os\n",
    "import pandas as pd\n",
    "from tifffile import tifffile\n",
    "\n",
    "from utilities import *"
   ]
  },
  {
   "cell_type": "markdown",
   "id": "706121ad",
   "metadata": {},
   "source": [
    "## Directory paths and parameters"
   ]
  },
  {
   "cell_type": "code",
   "execution_count": 2,
   "id": "75d7a5b8",
   "metadata": {},
   "outputs": [],
   "source": [
    "# location of images to segment (directory will be searched recursively)\n",
    "input_path = \"~/Research/Images\"\n",
    "match = \".tif\"   # search criteria for images (e.g. \".tif\")\n",
    "\n",
    "# output location for segmentation CSVs\n",
    "output_path = \"~/Research/Images\"\n",
    "\n",
    "# nuclear stain position (0 -> first layer, 1 -> second layer, etc.)\n",
    "nuc_name = \"dapi\"\n",
    "nuc_index = 2\n",
    "\n",
    "# indicate channels (beyond cell nuclei stain) and their channel positions\n",
    "channels = {\"gfp\": 1, \"rfp\": 0}\n",
    "bit_depth = 16    # change to 8 if your image intensity maximum is 255"
   ]
  },
  {
   "cell_type": "markdown",
   "id": "32f2a2d5",
   "metadata": {},
   "source": [
    "## Run segmentation pipeline"
   ]
  },
  {
   "cell_type": "code",
   "execution_count": 3,
   "id": "91c59570",
   "metadata": {},
   "outputs": [],
   "source": [
    "# make sure paths are absolute\n",
    "input_path = abs_path(input_path)\n",
    "output_path = abs_path(output_path)\n",
    "\n",
    "# get all images in input directory\n",
    "image_paths = get_images(input_path, match)\n",
    "\n",
    "# run the segmentation calculation on each image\n",
    "for path in image_paths:\n",
    "    \n",
    "    # read the image\n",
    "    image_path = os.path.join(input_path, path)\n",
    "    image = tifffile.imread(image_path)\n",
    "\n",
    "    # get the nuclear stain channel and segmen the image based on this\n",
    "    nuc_channel = image[nuc_index]\n",
    "    nuc_seg = segmentation(nuc_channel)\n",
    "\n",
    "    # create extension-less path to image specific file and CSV file path\n",
    "    out_no_ext = os.path.join(output_path, os.path.splitext(path)[0])\n",
    "    csv_path = out_no_ext + \".csv\"\n",
    "\n",
    "    # make sure directories exist for file(s)\n",
    "    dir_path = os.path.split(out_no_ext)[0]\n",
    "    os.makedirs(dir_path, exist_ok=True)\n",
    "\n",
    "    # return the detected objects that are identified as cells\n",
    "    x_pos, y_pos, cells = identify_cells(nuc_seg)\n",
    "\n",
    "    # get the nuclear intensities and generated image\n",
    "    nuc_intensities, out_image = overlay_cells(nuc_channel, cells)\n",
    "    nuc_path = out_no_ext + \"-\" + nuc_name + \".png\"\n",
    "    # plot(out_image, nuc_path, bit_depth)    # save the image\n",
    "\n",
    "    # create dictionary for storing cell specific values\n",
    "    data = {\"X\": x_pos, \"Y\": y_pos, nuc_name: nuc_intensities}\n",
    "\n",
    "    # iterate through the channels, quantifying signal in each\n",
    "    for sig_name in channels.keys():\n",
    "        # get expression channel from image\n",
    "        index = channels[sig_name]\n",
    "        channel = image[index]\n",
    "\n",
    "        # calculate intensities\n",
    "        intensities, out_image = overlay_cells(channel, cells)\n",
    "        data[sig_name] = intensities\n",
    "        sig_path = out_no_ext + \"-\" + sig_name + \".png\"\n",
    "        # plot(out_image, sig_path, bit_depth)    # save the image\n",
    "\n",
    "    # save cell locations and signal intensities to CSV\n",
    "    df = pd.DataFrame(data)\n",
    "    df.to_csv(csv_path, index=False)"
   ]
  }
 ],
 "metadata": {
  "kernelspec": {
   "display_name": "Python 3 (ipykernel)",
   "language": "python",
   "name": "python3"
  },
  "language_info": {
   "codemirror_mode": {
    "name": "ipython",
    "version": 3
   },
   "file_extension": ".py",
   "mimetype": "text/x-python",
   "name": "python",
   "nbconvert_exporter": "python",
   "pygments_lexer": "ipython3",
   "version": "3.9.13"
  }
 },
 "nbformat": 4,
 "nbformat_minor": 5
}
