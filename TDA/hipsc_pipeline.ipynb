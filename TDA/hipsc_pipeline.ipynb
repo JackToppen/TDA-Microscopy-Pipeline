{
 "cells": [
  {
   "cell_type": "markdown",
   "id": "1c11d359",
   "metadata": {},
   "source": [
    "# Topological Data Analysis of pattern formation of human induced pluripotent stem cell colonies\n",
    "# Iryna Hartsock, February 2023\n",
    "------------------------------------------------------------------------\n",
    "\n",
    "#### Dependencies\n",
    "\n",
    "*Install the following libraries before running the computations.*\n",
    "*For plotting persistence diagrams and persistence landscape computations  we use 'tda-tools' package. Since it is not on CRAN, follow this link https://github.com/jjbouza/tda-tools for installation instructions.*"
   ]
  },
  {
   "cell_type": "code",
   "execution_count": null,
   "id": "7cf47738",
   "metadata": {},
   "outputs": [],
   "source": [
    "install.packages(c(\"Rcpp\", \"TDA\", \"kernlab\", \"ggplot2\"))"
   ]
  },
  {
   "cell_type": "markdown",
   "id": "d58b8db5",
   "metadata": {},
   "source": [
    "------------------------------------------------------------------------\n",
    "\n",
    "## Load libraries"
   ]
  },
  {
   "cell_type": "code",
   "execution_count": null,
   "id": "d8eb9931",
   "metadata": {},
   "outputs": [],
   "source": [
    "library(\"Rcpp\")\n",
    "library(\"TDA\")\n",
    "library(\"tdatools\")\n",
    "library(\"kernlab\")\n",
    "library(\"ggplot2\")\n",
    "library(\"ggpubr\")"
   ]
  },
  {
   "cell_type": "markdown",
   "id": "6918bb37",
   "metadata": {},
   "source": [
    "## Functions\n",
    "*Pull generalized functions for TDA computations and for processing the CSV files from the discretization pipeline.*"
   ]
  },
  {
   "cell_type": "code",
   "execution_count": null,
   "id": "ed686e96",
   "metadata": {},
   "outputs": [],
   "source": [
    "# get helper functions\n",
    "source(\"utilities.R\")"
   ]
  },
  {
   "cell_type": "markdown",
   "id": "ba35af2d",
   "metadata": {},
   "source": [
    "## Data parameters"
   ]
  },
  {
   "cell_type": "code",
   "execution_count": null,
   "id": "6bc73967",
   "metadata": {},
   "outputs": [],
   "source": [
    "#Doxycycline concentrations\n",
    "concentrations <- c(0,5,15,25)\n",
    "#biological markers\n",
    "groups <- c(\"Gata6\",\"HA\") \n",
    "nconcentrations <- length(concentrations)\n",
    "ngroups <- length(groups)\n",
    "#percentile\n",
    "percentile <- 75\n",
    "#number of images per concentration\n",
    "nimages <- 15 \n",
    "#number of patches per image\n",
    "npatches <- 16 \n",
    "#number of patches (samples) per concentration \n",
    "nsamples <- nimages*npatches \n",
    "#number of wells\n",
    "nwells <- 3\n",
    "#number of positions\n",
    "npositions <- 5"
   ]
  },
  {
   "cell_type": "markdown",
   "id": "c758544e",
   "metadata": {},
   "source": [
    "## Data files "
   ]
  },
  {
   "cell_type": "code",
   "execution_count": null,
   "id": "c6f98cc2",
   "metadata": {},
   "outputs": [],
   "source": [
    "#specify the working directory path\n",
    "working_dir_path <- \"~/Documents/GitHub/TDA-Microscopy-Pipeline/TDA\"\n",
    "\n",
    "# specify location path of discretized CSVs\n",
    "csv_dir_path <- \"~/Documents/GitHub/TDA-Microscopy-Pipeline/tda-old/data/\"\n",
    "\n",
    "files <- list()\n",
    "for (j in groups){\n",
    "  for (c in concentrations){ \n",
    "    for (w in 1:nwells){\n",
    "      for (p in 1:npositions){\n",
    "        files <- append(files, paste0(percentile,\"/Nanog_\", j,\"/\", p, \"/\", c,\"/\", percentile, \"_Nanog_\",j, \"_\",c,\"_\", w, \"_\", p, \".csv\"))\n",
    "      }\n",
    "    }\n",
    "  }\n",
    "}"
   ]
  },
  {
   "cell_type": "markdown",
   "id": "5a7dd7dc",
   "metadata": {},
   "source": [
    "## Pick a cell type: R+G-, R-G+, R+G+, or R-G-"
   ]
  },
  {
   "cell_type": "code",
   "execution_count": null,
   "id": "734c2951",
   "metadata": {},
   "outputs": [],
   "source": [
    "#choose a cell type\n",
    "cell_type <- \"R+G-\" \n",
    "\n",
    "if (cell_type == \"R+G-\"){\n",
    "  type <- 1\n",
    "} else if (cell_type == \"R-G+\"){\n",
    "  type <- 10\n",
    "} else if (cell_type == \"R+G+\"){\n",
    "  type <- 11\n",
    "} else if (cell_type == \"R-G-\"){\n",
    "  type <- 0\n",
    "}"
   ]
  },
  {
   "cell_type": "markdown",
   "id": "925ed92a",
   "metadata": {},
   "source": [
    "## Computation of persistence diagrams for every patch\n",
    "*Since persistence computations might take long time to compute for a large data set, we recommend saving them*"
   ]
  },
  {
   "cell_type": "code",
   "execution_count": null,
   "id": "c0d96809",
   "metadata": {},
   "outputs": [],
   "source": [
    "#persistence homology computation\n",
    "PH <- list()\n",
    "for (i in 1:length(files)){\n",
    "  print(sprintf(\"Processing file %s\", files[[i]]))\n",
    "  PH[[i]] <- list()\n",
    "  for (k in 1:sqrt(npatches)){ #y-axis\n",
    "    for (j in 1:sqrt(npatches)){ #x-axis\n",
    "      all_cells <- read.csv(file=paste0(csv_dir_path,files[[i]]), header=TRUE)\n",
    "      #every image is ~2850x2850 pixels\n",
    "      all_cells <- all_cells[which( (2850/sqrt(npatches))*(j-1) <= all_cells[,1] & all_cells[,1] < (2850/sqrt(npatches))*j & (2850/sqrt(npatches))*(k-1) <= all_cells[,2] & all_cells[,2] < (2850/sqrt(npatches))*k),]\n",
    "      cells <- all_cells[ which(all_cells[,8]== type), ]               \n",
    "      #compute persistence homology using the Delaunay complex filtration (also known as Alpha complex filtration)\n",
    "      PH[[i]][[j+(k-1)*sqrt(npatches)]] <-  alphaComplexDiag(cells[,1:2], maxdimension = 1, library = c(\"GUDHI\", \"Dionysus\"), location = TRUE)\n",
    "    }\n",
    "  } \n",
    "}\n",
    "\n",
    "#create a list of persistence diagrams\n",
    "PDs <-list() \n",
    "max_birth <- list()\n",
    "max_death <- list()\n",
    "for (i in 1:length(files)){\n",
    "  PDs[[i]] <-list()\n",
    "  max_birth[[i]] <- list()\n",
    "  max_death[[i]] <- list()\n",
    "  for (k in 1:npatches){\n",
    "    #convert from gudhi to tdatools diagram data structure\n",
    "    PDs[[i]][[k]] <- gudhi2tdatools(PH[[i]][[k]]$diagram) \n",
    "    #birth and death values have been squared, so take the square root\n",
    "    #homology in degree 0\n",
    "    PDs[[i]][[k]]$pairs[[1]] <- sqrt(PDs[[i]][[k]]$pairs[[1]]) \n",
    "    #homology in degree 1\n",
    "    PDs[[i]][[k]]$pairs[[2]] <- sqrt(PDs[[i]][[k]]$pairs[[2]])\n",
    "    #max birth of 1-degree persistence diagrams \n",
    "    max_birth[[i]][[k]] <- max(PDs[[i]][[k]]$pairs[[2]][,1])\n",
    "    #max death of 1-degree persistence diagrams \n",
    "    max_death[[i]][[k]] <- max(PDs[[i]][[k]]$pairs[[2]][,2])\n",
    "  }\n",
    "}\n",
    "\n",
    "max_birth <- max(unlist(max_birth))\n",
    "max_death <- max(unlist(max_death))\n",
    "\n",
    "#free memory by removing some data from the workspace\n",
    "remove(list=c(\"PH\"))\n",
    "\n",
    "#create a folder for saved computations\n",
    "dir.create(\"saved_computations\")\n",
    "\n",
    "#save the list of persistence diagrams, the max birth and max death values \n",
    "#separately for each cell type\n",
    "save_filename <-  \"persistence-diagrams-red.RData\" \n",
    "save_file_location <- paste0(working_dir_path, \"/saved_computations/\") \n",
    "save(PDs, max_birth, max_death, file=paste0(save_file_location,save_filename)) "
   ]
  },
  {
   "cell_type": "code",
   "execution_count": null,
   "id": "4ed6e52e",
   "metadata": {},
   "outputs": [],
   "source": [
    "max_birth <- list()\n",
    "max_death <- list()\n",
    "for (i in 1:length(files)){\n",
    "  max_birth[[i]] <- list()\n",
    "  max_death[[i]] <- list()\n",
    "  for (k in 1:npatches){\n",
    "    #max birth of 1-degree persistence diagrams \n",
    "    max_birth[[i]][[k]] <- max(PDs[[i]][[k]]$pairs[[2]][,1])\n",
    "    #max death of 1-degree persistence diagrams \n",
    "    max_death[[i]][[k]] <- max(PDs[[i]][[k]]$pairs[[2]][,2])\n",
    "  }\n",
    "}\n",
    "\n",
    "max_birth <- max(unlist(max_birth))\n",
    "max_death <- max(unlist(max_death))"
   ]
  },
  {
   "cell_type": "markdown",
   "id": "b25f173c",
   "metadata": {},
   "source": [
    "## Plot persistence diagrams"
   ]
  },
  {
   "cell_type": "code",
   "execution_count": null,
   "id": "34851e24",
   "metadata": {},
   "outputs": [],
   "source": [
    "par(pty=\"s\") #makes a square plot \n",
    "\n",
    "#load saved persistence diagrams\n",
    "load(paste0(save_PD_file_location,save_PD_filename))\n",
    "\n",
    "max_radius <- max(max_birth, max_death)\n",
    "for (i in 1:length(files)){\n",
    "  plot_diagram(PDs[[i]]$pairs[[2]], max_radius)\n",
    "}"
   ]
  },
  {
   "cell_type": "markdown",
   "id": "70c6824c",
   "metadata": {},
   "source": [
    "## Compute and plot persistence landscapes"
   ]
  },
  {
   "cell_type": "code",
   "execution_count": null,
   "id": "13778ea0",
   "metadata": {},
   "outputs": [],
   "source": [
    "#load saved persistence diagrams\n",
    "load(paste0(paste0(working_dir_path, \"/saved_computations/\"), \"persistence-diagrams-red.RData\"))\n",
    "\n",
    "max_x <- (max_death+max_birth)/2 + 5\n",
    "dx <- 0.3 #discretization step\n",
    "\n",
    "PLs <- list()\n",
    "for (i in 1:length(files)){ \n",
    "  PLs[[i]] <- list()\n",
    "  for (k in 1:npatches){\n",
    "    PLs[[i]][[k]] <- landscape0(PDs[[i]][[k]]$pairs[[2]], degree=1, exact=FALSE, dx=dx, min_x=0, max_x=max_x)\n",
    "    plot_landscape(PLs[[i]][[k]], max_x, 0, max_death/2)\n",
    "  }\n",
    "}"
   ]
  },
  {
   "cell_type": "markdown",
   "id": "052707aa",
   "metadata": {},
   "source": [
    "## Compute and plot average persistence landscapes for each Dox concentration"
   ]
  },
  {
   "cell_type": "code",
   "execution_count": null,
   "id": "0f94ee60",
   "metadata": {},
   "outputs": [],
   "source": [
    "par(pty=\"s\")\n",
    "\n",
    "PLs_list <- list()\n",
    "for (j in 1:ngroups){\n",
    "  PLs_list[[j]] <- list()\n",
    "  for (c in 1:nconcentrations){\n",
    "    PLs_list[[j]][[c]] <- list()\n",
    "    for (i in 1:nimages){\n",
    "      for (k in 1:npatches){\n",
    "        PLs_list[[j]][[c]] <- append(PLs_list[[j]][[c]],PLs[[nimages*(c-1)+(j-1)*nimages*nconcentrations+i]][[k]])\n",
    "      }\n",
    "    }\n",
    "  }\n",
    "}\n",
    "\n",
    "PLs_avg <- list()\n",
    "for (j in 1:ngroups){\n",
    "  if (j == 1){\n",
    "    group <- \"Gata6\" \n",
    "  } else {\n",
    "    group <- \"HA\" \n",
    "  }\n",
    "  PLs_avg[[j]] <- list()\n",
    "  for (c in 1:nconcentrations){\n",
    "    if (c==1){\n",
    "      concentration <- 0\n",
    "    } else if (c==2){\n",
    "      concentration <- 5\n",
    "    } else if (c==3){\n",
    "      concentration <- 15\n",
    "    } else {concentration <- 25 }\n",
    "    PL_sum <- PLs_list[[j]][[c]][[1]]\n",
    "    for (i in 2:length(PLs_list[[j]][[c]])){\n",
    "      PL_sum <- PLsum(PL_sum, PLs_list[[j]][[c]][[i]])\n",
    "    }\n",
    "    PLs_avg[[j]][[c]]<- PLscale(1/(length(PLs_list[[j]][[c]])), PL_sum)\n",
    "    plot_landscape(PLs_avg[[j]][[c]], max_x, 0, max_death/2)\n",
    "    title(main=sprintf(\"Average PL for %s concentration %1.0f ng/ml\",group, concentration)) \n",
    "  }\n",
    "}"
   ]
  },
  {
   "cell_type": "markdown",
   "id": "1fc1bf7c",
   "metadata": {},
   "source": [
    "## Plot the difference between pan-GATA6 and HA average persistence landscape for each Dox concentration"
   ]
  },
  {
   "cell_type": "code",
   "execution_count": null,
   "id": "c96afcde",
   "metadata": {},
   "outputs": [],
   "source": [
    "par(pty=\"s\")\n",
    "for (c in 1:nconcentrations){\n",
    "   if (c==1){\n",
    "      concentration <- 0\n",
    "    } else if (c==2){\n",
    "      concentration <- 5\n",
    "    } else if (c==3){\n",
    "      concentration <- 15\n",
    "    } else {concentration <- 25 }\n",
    "    plot_landscape(PLsum(PLs_avg[[1]][[c]],PLscale(-1,PLs_avg[[2]][[c]])), max_x, -max_death/2, max_death/2)\n",
    "    title(main=sprintf(\"Gata6 vs HA concentration %1.0f ng/ml\",concentration)) \n",
    "}"
   ]
  },
  {
   "cell_type": "markdown",
   "id": "c24f9f7b",
   "metadata": {},
   "source": [
    "## Plot the difference between average persistence landscapes of distinct Dox concentrations"
   ]
  },
  {
   "cell_type": "code",
   "execution_count": null,
   "id": "78e84706",
   "metadata": {},
   "outputs": [],
   "source": [
    "for (j in 1:ngroups){\n",
    "  par(pty=\"s\")\n",
    "  if (j == 1){\n",
    "    group <- \"Gata6\" \n",
    "  } else {\n",
    "    group <- \"HA\"\n",
    "  }\n",
    "  plot_landscape(PLsum(PLs_avg[[j]][[1]],PLscale(-1,PLs_avg[[j]][[2]])), max_x, -max_death/2, max_death/2)\n",
    "  title(main=sprintf(\"%s concentration 0 vs 5 ng/ml\",group)) \n",
    "  plot_landscape(PLsum(PLs_avg[[j]][[1]],PLscale(-1,PLs_avg[[j]][[3]])), max_x, -max_death/2, max_death/2)\n",
    "  title(main=sprintf(\"%s concentration 0 vs 15 ng/ml\",group)) \n",
    "  plot_landscape(PLsum(PLs_avg[[j]][[1]],PLscale(-1,PLs_avg[[j]][[4]])), max_x, -max_death/2, max_death/2)\n",
    "  title(main=sprintf(\"%s concentration 0 vs 25 ng/ml\",group)) \n",
    "  plot_landscape(PLsum(PLs_avg[[j]][[2]],PLscale(-1,PLs_avg[[j]][[3]])), max_x, -max_death/2, max_death/2)\n",
    "  title(main=sprintf(\"%s concentration 5 vs 15 ng/ml\",group)) \n",
    "  plot_landscape(PLsum(PLs_avg[[j]][[2]],PLscale(-1,PLs_avg[[j]][[4]])), max_x, -max_death/2, max_death/2)\n",
    "  title(main=sprintf(\"%s concentration 5 vs 25 ng/ml\",group)) \n",
    "  plot_landscape(PLsum(PLs_avg[[j]][[3]],PLscale(-1,PLs_avg[[j]][[4]])), max_x, -max_death/2, max_death/2)\n",
    "  title(main=sprintf(\"%s concentration 15 vs 25 ng/ml\",group)) \n",
    "} "
   ]
  },
  {
   "cell_type": "markdown",
   "id": "93505dd6",
   "metadata": {},
   "source": [
    "## Vectorize persistence landscapes "
   ]
  },
  {
   "cell_type": "code",
   "execution_count": null,
   "id": "ba677fea",
   "metadata": {},
   "outputs": [],
   "source": [
    "#choose a max PL depth \n",
    "PL_max_depth <- 30\n",
    "\n",
    "vectorized_PLs <- vectorize_landscapes(PLs[[1]], PL_max_depth)\n",
    "for (i in 2:length(files)){\n",
    "  vectorized_PLs <- rbind(vectorized_PLs, vectorize_landscapes(PLs[[i]], PL_max_depth))\n",
    "}\n",
    "\n",
    "if (cell_type == \"R+G-\"){\n",
    "  vec_red <- vectorized_PLs\n",
    "  \n",
    "  #save the vectorized persistence landscapes and their length\n",
    "  save_filename <-  \"PLs-red.RData\" \n",
    "  save_file_location <- paste0(working_dir_path, \"/saved_computations/\") \n",
    "  save(vec_red, PL_length_red, file=paste0(save_file_location,save_filename)) \n",
    "} else if (cell_type == \"R-G+\"){\n",
    "  vec_gr <- vectorized_PLs\n",
    "  \n",
    "  #save the vectorized persistence landscapes and their length\n",
    "  save_filename <-  \"PLs-gr.RData\" \n",
    "  save_file_location <- paste0(working_dir_path, \"/saved_computations/\") \n",
    "  save(vec_gr, PL_length_gr, file=paste0(save_file_location,save_filename)) \n",
    "} else if (cell_type == \"R+G+\"){\n",
    "  vec_pos <- vectorized_PLs\n",
    "  \n",
    "  #save the vectorized persistence landscapes and their length\n",
    "  save_filename <-  \"PLs-pos.RData\" \n",
    "  save_file_location <- paste0(working_dir_path, \"/saved_computations/\") \n",
    "  save(vec_pos, PL_length_pos, file=paste0(save_file_location,save_filename)) \n",
    "} else if (cell_type == \"R-G-\"){\n",
    "  vec_neg <- vectorized_PLs\n",
    "  \n",
    "  #save the vectorized persistence landscapes and their length\n",
    "  save_filename <-  \"PLs-neg.RData\" \n",
    "  save_file_location <- paste0(working_dir_path, \"/saved_computations/\") \n",
    "  save(vec_neg, PL_length_neg, file=paste0(save_file_location,save_filename)) \n",
    "}"
   ]
  },
  {
   "cell_type": "markdown",
   "id": "f601aa6d",
   "metadata": {},
   "source": [
    "## Compute cell count vectors for every cell type"
   ]
  },
  {
   "cell_type": "code",
   "execution_count": null,
   "id": "809f7a48",
   "metadata": {},
   "outputs": [],
   "source": [
    "cell_number_r <- list()\n",
    "cell_number_gr <- list()\n",
    "cell_number_pos <- list()\n",
    "cell_number_neg <- list()\n",
    "for (j in 1:ngroups){         #j=1 pan-Gata6, j=2 HA\n",
    "  cell_number_r[[j]] <- list()\n",
    "  cell_number_gr[[j]] <- list()\n",
    "  cell_number_pos[[j]] <- list()\n",
    "  cell_number_neg[[j]] <- list()\n",
    "  for (c in 1:nconcentrations){             \n",
    "    cell_number_r[[j]][[c]]<- list()\n",
    "    cell_number_gr[[j]][[c]]<- list()\n",
    "    cell_number_pos[[j]][[c]]<- list()\n",
    "    cell_number_neg[[j]][[c]]<- list()\n",
    "    for (i in 1:nimages){             \n",
    "      all_cells <- read.csv(file=paste0(csv_dir_path,files[[i+(c-1)*nimages+(j-1)*nimages*nconcentrations]]), header=TRUE)\n",
    "      cell_number_r[[j]][[c]][[i]] <- list()\n",
    "      cell_number_gr[[j]][[c]][[i]] <- list()\n",
    "      cell_number_pos[[j]][[c]][[i]] <- list()\n",
    "      cell_number_neg[[j]][[c]][[i]] <- list()\n",
    "      for (k in 1:sqrt(npatches)){\n",
    "        for (r in 1:sqrt(npatches)){\n",
    "          #every image is ~2850x2850 \n",
    "          patch <- all_cells[which( ((2850/sqrt(npatches))*(r-1)) <= all_cells[,1] & all_cells[,1] < ((2850/sqrt(npatches))*r) & ((2850/sqrt(npatches))*(k-1)) <= all_cells[,2] & all_cells[,2] < ((2850/sqrt(npatches))*k)),]\n",
    "          #R+G- cell type\n",
    "          red_patch <- patch[ which((patch[,8]==1)), ] \n",
    "          cell_number_r[[j]][[c]][[i]][[r+(k-1)*sqrt(npatches)]] <- nrow(red_patch)\n",
    "          #R-G+ cell type\n",
    "          green_patch <- patch[ which((patch[,8]==10)), ] \n",
    "          cell_number_gr[[j]][[c]][[i]][[r+(k-1)*sqrt(npatches)]] <- nrow(green_patch)\n",
    "          #R+G+ cell type\n",
    "          pos_patch <- patch[ which((patch[,8]==11)), ] \n",
    "          cell_number_pos[[j]][[c]][[i]][[r+(k-1)*sqrt(npatches)]] <- nrow(pos_patch)\n",
    "          #R-G-cell type\n",
    "          neg_patch <- patch[ which((patch[,8]==0)), ] \n",
    "          cell_number_neg[[j]][[c]][[i]][[r+(k-1)*sqrt(npatches)]] <- nrow(neg_patch)\n",
    "        }\n",
    "      }\n",
    "    }\n",
    "  }\n",
    "}\n",
    "\n",
    "#concatenate cell counts of each cell type into a single vector\n",
    "counts <- list()\n",
    "for (j in 1:ngroups){\n",
    "  counts[[j]] <- cbind(matrix(unlist(cell_number_r[[j]]), nrow=length(unlist(cell_number_r[[j]]))), \n",
    "                       matrix(unlist(cell_number_gr[[j]]), nrow=length(unlist(cell_number_gr[[j]]))), \n",
    "                       matrix(unlist(cell_number_pos[[j]]), nrow=length(unlist(cell_number_pos[[j]]))), \n",
    "                       matrix(unlist(cell_number_neg[[j]]), nrow=length(unlist(cell_number_neg[[j]]))))\n",
    "}"
   ]
  },
  {
   "cell_type": "markdown",
   "id": "b60fe09a",
   "metadata": {},
   "source": [
    "## Load saved vectorized persistence landscapes for every cell type"
   ]
  },
  {
   "cell_type": "code",
   "execution_count": null,
   "id": "62053366",
   "metadata": {},
   "outputs": [],
   "source": [
    "load(paste0(paste0(working_dir_path, \"/saved_computations/\"), \"PLs-red.RData\"))\n",
    "load(paste0(paste0(working_dir_path, \"/saved_computations/\"), \"PLs-gr.RData\"))\n",
    "load(paste0(paste0(working_dir_path, \"/saved_computations/\"), \"PLs-pos.RData\"))\n",
    "load(paste0(paste0(working_dir_path, \"/saved_computations/\"), \"PLs-neg.RData\"))"
   ]
  },
  {
   "cell_type": "markdown",
   "id": "fcfa2ba4",
   "metadata": {},
   "source": [
    "## Permutation test\n",
    "*pan-GATA6 vs HA for 25 ng/ml Dox concentration*"
   ]
  },
  {
   "cell_type": "code",
   "execution_count": null,
   "id": "18cdcbf5",
   "metadata": {},
   "outputs": [],
   "source": [
    "vectors <- vec_red\n",
    "p_value <- permutation_test(vectors[(3*nsamples+1):(4*nsamples),], vectors[(7*nsamples+1):(8*nsamples),])\n",
    "print(sprintf(\"p-value %f:\", p_value))"
   ]
  },
  {
   "cell_type": "markdown",
   "id": "47f2c7df",
   "metadata": {},
   "source": [
    "## Permutation test\n",
    "*one vs another Dox concentration for each each group*"
   ]
  },
  {
   "cell_type": "code",
   "execution_count": null,
   "id": "7b35a466",
   "metadata": {},
   "outputs": [],
   "source": [
    "vectors <- vec_red\n",
    "for (i in 1:2){\n",
    "  if (i == 1){group <- \"pan-GATA6\"} else {group <- \"HA\"} \n",
    "  p_value <- permutation_test(vectors[(0*nsamples+1+(i-1)*4*nsamples):(1*nsamples+(i-1)*4*nsamples),], vectors[(1*nsamples+1+(i-1)*4*nsamples):(2*nsamples+(i-1)*4*nsamples),])\n",
    "  print(sprintf(\"%s group 0 vs 5 ng/ml has p-value %f:\", group, p_value))\n",
    "  p_value <- permutation_test(vectors[(0*nsamples+1+(i-1)*4*nsamples):(1*nsamples+(i-1)*4*nsamples),], vectors[(2*nsamples+1+(i-1)*4*nsamples):(3*nsamples+(i-1)*4*nsamples),])\n",
    "  print(sprintf(\"%s group 0 vs 15 ng/ml has p-value %f:\", group, p_value))\n",
    "  p_value <- permutation_test(vectors[(0*nsamples+1+(i-1)*4*nsamples):(1*nsamples+(i-1)*4*nsamples),], vectors[(3*nsamples+1+(i-1)*4*nsamples):(4*nsamples+(i-1)*4*nsamples),])\n",
    "  print(sprintf(\"%s group 0 vs 25 ng/ml has p-value %f:\", group, p_value))\n",
    "  p_value <- permutation_test(vectors[(1*nsamples+1+(i-1)*4*nsamples):(2*nsamples+(i-1)*4*nsamples),], vectors[(2*nsamples+1+(i-1)*4*nsamples):(3*nsamples+(i-1)*4*nsamples),])\n",
    "  print(sprintf(\"%s group 5 vs 15 ng/ml has p-value %f:\", group, p_value))\n",
    "  p_value <- permutation_test(vectors[(1*nsamples+1+(i-1)*4*nsamples):(2*nsamples+(i-1)*4*nsamples),], vectors[(3*nsamples+1+(i-1)*4*nsamples):(4*nsamples+(i-1)*4*nsamples),])\n",
    "  print(sprintf(\"%s group 5 vs 25 ng/ml has p-value %f:\", group, p_value))\n",
    "  p_value <- permutation_test(vectors[(2*nsamples+1+(i-1)*4*nsamples):(3*nsamples+(i-1)*4*nsamples),], vectors[(3*nsamples+1+(i-1)*4*nsamples):(4*nsamples+(i-1)*4*nsamples),])\n",
    "  print(sprintf(\"%s group 0 vs 15 ng/ml has p-value %f:\", group, p_value))\n",
    "}"
   ]
  },
  {
   "cell_type": "markdown",
   "id": "ba1d3872",
   "metadata": {},
   "source": [
    "## Pairwise Support Vector Machine (SVM) classification"
   ]
  },
  {
   "cell_type": "code",
   "execution_count": null,
   "id": "9d210eec",
   "metadata": {},
   "outputs": [],
   "source": [
    "#number of patches per group\n",
    "nall_patches <- nsamples*nconcentrations\n",
    "cost <- 10\n",
    "nrepeats <- 20\n",
    "num_folds <- 5\n",
    "ntest_data <- 2*nsamples/num_folds\n",
    "data_labels <- matrix(c(rep(1,(nsamples)),rep(-1,(nsamples))))\n",
    "for (i in 1:2){\n",
    "  if (i == 1){group <- \"pan-GATA6\"} else {group <- \"HA\"}\n",
    "  \n",
    "  #cell count vectors\n",
    "  #vectors <- counts[[i]]\n",
    "  \n",
    "  #concatenate PL vectors of all four types\n",
    "  vectors <- cbind(vec_red[(1+nall_patches*(1-i)):(nall_patches+nall_patches*(1-i)),], vec_gr[(1+nall_patches*(1-i)):(nall_patches+nall_patches*(1-i)),], vec_pos[(1+nall_patches*(1-i)):(nall_patches+nall_patches*(1-i)),], vec_neg[(1+nall_patches*(1-i)):(nall_patches+nall_patches*(1-i)),]) \n",
    "\n",
    "  #normalize vectors\n",
    "  vectors <- vectors[, colSums(abs(vectors)) != 0]\n",
    "  vectors <- scale(vectors)\n",
    "\n",
    "  #create a list of pairwise combinations of vectors of different Dox concentration\n",
    "  list_vectors <-list(rbind(vectors[1:(nsamples),], vectors[(nsamples+1):(2*nsamples),]), rbind(vectors[1:(nsamples),], vectors[(2*nsamples+1):(3*nsamples),]),\n",
    "rbind(vectors[1:(nsamples),], vectors[(3*nsamples+1):(4*nsamples),]), \n",
    "rbind(vectors[(nsamples+1):(2*nsamples),], vectors[(2*nsamples+1):(3*nsamples),]), rbind(vectors[(nsamples+1):(2*nsamples),], vectors[(3*nsamples+1):(4*nsamples),]), rbind(vectors[(2*nsamples+1):(3*nsamples),], vectors[(3*nsamples+1):(4*nsamples),]))\n",
    "\n",
    "  accuracy <- list()\n",
    "  s <- list()\n",
    "  for (k in 1:length(list_vectors)){\n",
    "    if (k == 1){classification <- \"0 vs 5 ng/ml\"} \n",
    "    else if (k == 2){classification <- \"0 vs 15 ng/ml\"}\n",
    "    else if (k == 3){classification <- \"0 vs 25 ng/ml\"}\n",
    "    else if (k == 4){classification <- \"5 vs 15 ng/ml\"}\n",
    "    else if (k == 5){classification <- \"5 vs 25 ng/ml\"}\n",
    "    else if (k == 6){classification <- \"15 vs 25 ng/ml\"}\n",
    "    s[[k]] <- list()\n",
    "    for (j in 1:nrepeats){\n",
    "      rand_perm <- sample(2*nsamples)\n",
    "      vectors_permuted <- list_vectors[[k]][rand_perm,]\n",
    "      data_labels_permuted <- data_labels[rand_perm]\n",
    "      svm_model <- list()\n",
    "      predictions_list <- vector()\n",
    "      predictions <- list()\n",
    "      for (n in 1:num_folds){\n",
    "        svm_model[[n]] <-  ksvm(vectors_permuted[-((ntest_data*(n-1)+1):(ntest_data*(n-1)+ntest_data)),],data_labels_permuted[-((ntest_data*(n-1)+1):(ntest_data*(n-1)+ntest_data))],type=\"C-svc\",scaled = c(),kernel=\"vanilladot\", C=cost)\n",
    "        predictions[[n]] <- predict(svm_model[[n]],vectors_permuted[((ntest_data*(n-1) +   1)):(ntest_data*(n-1)+ntest_data),])\n",
    "        predictions_list <- c(predictions_list, predictions[[n]])\n",
    "    }\n",
    "    s[[k]][[j]] <- 0\n",
    "    for (n in 1:(2*nsamples)){\n",
    "      if (predictions_list[[n]] == data_labels_permuted[[n]]){\n",
    "        s[[k]][[j]] <- s[[k]][[j]]+1\n",
    "      }\n",
    "     }\n",
    "    }\n",
    "    accuracy[[k]] <- sum(unlist(s[[k]]))/(nrepeats*2*nsamples)\n",
    "    print(sprintf(\"For %s group the average accuracy for %s SVM classification is %#.2f%%\", group, classification, 100*round(accuracy[[k]], 4)))\n",
    "  }\n",
    "}"
   ]
  },
  {
   "cell_type": "markdown",
   "id": "6e851876",
   "metadata": {},
   "source": [
    "## Multiclass SVM classification"
   ]
  },
  {
   "cell_type": "code",
   "execution_count": null,
   "id": "703fda76",
   "metadata": {},
   "outputs": [],
   "source": [
    "#number of patches per group\n",
    "nall_patches <- nsamples*nconcentrations\n",
    "cost <- 10\n",
    "nrepeats <- 20\n",
    "num_folds <- 10\n",
    "ntest_data <- nall_patches/num_folds\n",
    "data_labels <- matrix(c(rep(0,nsamples), rep(5,nsamples), rep(15,nsamples), rep(25,nsamples)))\n",
    "for (i in 1:2){\n",
    "  if (i == 1){group <- \"pan-GATA6\"} else {group <- \"HA\"}\n",
    "  \n",
    "  #cell count vectors\n",
    "  #vectors <- counts[[i]]\n",
    "  \n",
    "  #concatenate PL vectors of all four types\n",
    "  vectors <- cbind(vec_red[(1+nall_patches*(1-i)):(nall_patches+nall_patches*(1-i)),], vec_gr[(1+nall_patches*(1-i)):(nall_patches+nall_patches*(1-i)),], vec_pos[(1+nall_patches*(1-i)):(nall_patches+nall_patches*(1-i)),], vec_neg[(1+nall_patches*(1-i)):(nall_patches+nall_patches*(1-i)),]) \n",
    "\n",
    "  #normalize vectors\n",
    "  vectors <- vectors[, colSums(abs(vectors)) != 0]\n",
    "  vectors <- scale(vectors)\n",
    "  \n",
    "  accuracy <- list()\n",
    "  total_accuracy <- 0\n",
    "  for (k in 1:nrepeats){\n",
    "    rand_perm <- sample(nall_patches)\n",
    "    vectors_permuted <- vectors[rand_perm,]\n",
    "    data_labels_permuted <- data_labels[rand_perm]\n",
    "    svm_model <- list()\n",
    "    predictions <- list()\n",
    "    for (n in 1:num_folds){\n",
    "      svm_model[[n]] <- ksvm(vectors_permuted[-((ntest_data*(n-1) +    1):(ntest_data*(n-1)+ntest_data)),],data_labels_permuted[-((ntest_data*(n-1) + 1):(ntest_data*(n-1)+ntest_data))],type=\"C-svc\",scaled = c(),kernel=\"vanilladot\")\n",
    "      predictions[[n]] <- predict(svm_model[[n]],vectors_permuted[((ntest_data*(n-1) + 1):(ntest_data*(n-1)+ntest_data)),])\n",
    "    }\n",
    "    predictions <- unlist(predictions)\n",
    "    s <- 0\n",
    "    for (n in 1:nall_patches){\n",
    "      if (predictions[[n]] == data_labels_permuted[[n]]){s <- s+1}\n",
    "    }\n",
    "    accuracy[[k]] <- s/nrow(vectors)\n",
    "    print(sprintf(\"Accuracy is %#.2f %%\", 100*round(accuracy[[k]], 4)))\n",
    "    total_accuracy <- total_accuracy+accuracy[[k]]\n",
    "  }\n",
    "total_accuracy <- total_accuracy/nrepeats\n",
    "print(sprintf(\"For %s group the average accuracy of multiclass SVM classification is %#.2f%%\", group, 100*round(total_accuracy, 4)))\n",
    "}"
   ]
  },
  {
   "cell_type": "markdown",
   "id": "d3d09f8a",
   "metadata": {},
   "source": [
    "## Confusion matrix of an instance of multiclass SVM"
   ]
  },
  {
   "cell_type": "code",
   "execution_count": null,
   "id": "d6af959a",
   "metadata": {},
   "outputs": [],
   "source": [
    "#number of patches per group\n",
    "nall_patches <- nsamples*nconcentrations\n",
    "cost <- 10\n",
    "nrepeats <- 20\n",
    "num_folds <- 10\n",
    "ntest_data <- nall_patches/num_folds\n",
    "data_labels <- matrix(c(rep(0,nsamples), rep(5,nsamples), rep(15,nsamples), rep(25,nsamples)))\n",
    "for (i in 1:2){\n",
    "  if (i == 1){group <- \"pan-GATA6\"} else {group <- \"HA\"}\n",
    "  \n",
    "  #cell count vectors\n",
    "  #vectors <- counts[[i]]\n",
    "  \n",
    "  #concatenate PL vectors of all four types\n",
    "  vectors <- cbind(vec_red[(1+nall_patches*(1-i)):(nall_patches+nall_patches*(1-i)),], vec_gr[(1+nall_patches*(1-i)):(nall_patches+nall_patches*(1-i)),], vec_pos[(1+nall_patches*(1-i)):(nall_patches+nall_patches*(1-i)),], vec_neg[(1+nall_patches*(1-i)):(nall_patches+nall_patches*(1-i)),]) \n",
    "\n",
    "  #normalize vectors\n",
    "  vectors <- vectors[, colSums(abs(vectors)) != 0]\n",
    "  vectors <- scale(vectors)\n",
    "\n",
    "  accuracy <- list()\n",
    "  total_accuracy <- 0\n",
    "  rand_perm <- sample(nall_patches)\n",
    "  vectors_permuted <- vectors[rand_perm,]\n",
    "  data_labels_permuted <- data_labels[rand_perm]\n",
    "  svm_model <- list()\n",
    "  predictions <- list()\n",
    "  for (n in 1:num_folds){\n",
    "    svm_model[[n]] <- ksvm(vectors_permuted[-((ntest_data*(n-1) +    1):(ntest_data*(n-1)+ntest_data)),],data_labels_permuted[-((ntest_data*(n-1) + 1):(ntest_data*(n-1)+ntest_data))],type=\"C-svc\",scaled = c(),kernel=\"vanilladot\")\n",
    "    predictions[[n]] <- predict(svm_model[[n]],vectors_permuted[((ntest_data*(n-1) + 1):(ntest_data*(n-1)+ntest_data)),])\n",
    "  }\n",
    "  predictions <- unlist(predictions)\n",
    "  s <- 0\n",
    "  for (n in 1:nall_patches){\n",
    "    if (predictions[[n]] == data_labels_permuted[[n]]){s <- s+1}\n",
    "  }\n",
    "  print(sprintf(\"For %s group the accuracy of multiclass SVM classification is %#.2f%%\", group, 100*round(s/nall_patches, 4)))\n",
    "  print(table(unlist(predictions),data_labels_permuted))\n",
    "}"
   ]
  },
  {
   "cell_type": "markdown",
   "id": "fc5ceeda",
   "metadata": {},
   "source": [
    "## Support Vector Regression (SVR)"
   ]
  },
  {
   "cell_type": "code",
   "execution_count": null,
   "id": "0d52f35c",
   "metadata": {},
   "outputs": [],
   "source": [
    "#number of patches per group\n",
    "nall_patches <- nsamples*nconcentrations\n",
    "cost <- 10\n",
    "nrepeats <- 20\n",
    "num_folds <- 10\n",
    "ntest_data <- nall_patches/num_folds\n",
    "data_labels <- matrix(c(rep(0,nsamples), rep(5,nsamples), rep(15,nsamples), rep(25,nsamples)))\n",
    "predictions <- list()\n",
    "for (i in 1:2){\n",
    "  if (i == 1){group <- \"pan-GATA6\"} else {group <- \"HA\"}\n",
    "  \n",
    "  #cell count vectors\n",
    "  vectors <- counts[[i]]\n",
    "  \n",
    "  #concatenate PL vectors of all four types\n",
    "  #vectors <- cbind(vec_red[(1+nall_patches*(1-i)):(nall_patches+nall_patches*(1-i)),],     vec_gr[(1+nall_patches*(1-i)):(nall_patches+nall_patches*(1-i)),], vec_pos[(1+nall_patches*(1-i)):(nall_patches+nall_patches*(1-i)),], vec_neg[(1+nall_patches*(1-i)):(nall_patches+nall_patches*(1-i)),]) \n",
    "  \n",
    "  #normalize vectors\n",
    "  vectors <- vectors[, colSums(abs(vectors)) != 0]\n",
    "  vectors <- scale(vectors)\n",
    "  \n",
    "  predictions_list <- list()\n",
    "  for (k in 1:nrepeats){\n",
    "    rand_perm <- sample(nall_patches)\n",
    "    perm_inv <- invPerm(rand_perm)\n",
    "    vectors_permuted <- vectors[rand_perm,]\n",
    "    data_labels_permuted <- data_labels[rand_perm]\n",
    "    svr_model <- list()\n",
    "    predictions_svr <- list()\n",
    "    for (n in 1:num_folds){\n",
    "      svr_model[[n]] <- ksvm(vectors_permuted[-((ntest_data*(n-1) + 1):(ntest_data*(n-1)+ntest_data)),],data_labels_permuted[-((ntest_data*(n-1) + 1):(ntest_data*(n-1)+ntest_data))],scaled  = FALSE ,kernel=\"vanilladot\",C = cost,epsilon = 0.01)\n",
    "      predictions_svr[[n]] <- predict(svr_model[[n]],vectors_permuted[((ntest_data*(n-1) + 1):(ntest_data*(n-1)+ntest_data)),])\n",
    "    }\n",
    "    predictions_list[[k]] <- unlist(predictions_svr)[perm_inv]\n",
    "  }   \n",
    "  prediction <- NULL\n",
    "  for (k in 1:nrepeats){\n",
    "    prediction <- rbind(prediction,predictions_list[[k]])\n",
    "  }\n",
    "  predictions[[i]] <- colSums(prediction)/nrepeats\n",
    "}"
   ]
  },
  {
   "cell_type": "markdown",
   "id": "79596c0e",
   "metadata": {},
   "source": [
    "## SVR: Dox concentration predictions plotted as a boxplot"
   ]
  },
  {
   "cell_type": "code",
   "execution_count": null,
   "id": "4670b897",
   "metadata": {
    "lines_to_next_cell": 0
   },
   "outputs": [],
   "source": [
    "SVR_plot <- list()\n",
    "for (i in 1:2){\n",
    "  if (i == 1){\n",
    "    group <- \"Pan-GATA6\"\n",
    "    group_predictions <- predictions[[1]]\n",
    "    } \n",
    "  else {\n",
    "    group <- \"HA\"\n",
    "    group_predictions <- predictions[[2]]\n",
    "    }\n",
    "  image_predictions <- vector()\n",
    "  for (n in 1:(nimages*nconcentrations)){\n",
    "    image_predictions[n] <- mean(sort(group_predictions[((n-1)*npatches+1):(n*npatches)]))\n",
    "  }\n",
    "  concentration <- c(rep(\"0\",nimages),rep(\"5\",nimages),rep(\"15\",nimages),rep(\"25\",nimages))\n",
    "  value <- c(unlist(image_predictions))\n",
    "  \n",
    "  svr_data <- data.frame(concentration, value)\n",
    "  svr_data <- svr_data %>% group_by(concentration) %>% filter(!is.na(value)) %>% \n",
    "  mutate(Outlier = ifelse(value > quantile(value, 0.75)+1.50*IQR(value),\"Outlier\",\"OK\")) %>%\n",
    "  mutate(Outlier = ifelse(value < quantile(value, 0.25)-1.50*IQR(value),\"Outlier\",Outlier))\n",
    "  \n",
    "  SVR_plot[[i]] <- ggplot(subset(svr_data, Outlier == \"OK\"), aes(x = concentration, y = value, fill=concentration))+geom_boxplot(outlier.colour = NA, alpha=0.4)+scale_x_discrete(limits=c(\"0\", \"5\", \"15\", \"25\"))+xlab(\"Actual Dox concentration\")+ylab(\"Predicted Dox concentration\") +coord_cartesian(ylim=c(0,30))+scale_y_continuous(breaks = c(-5, 0, 5, 10,15,20,25,30)) +scale_fill_discrete(breaks=c('0', '5', '15', '25'))+guides(fill=guide_legend(title=\"Dox concentration\")) +geom_jitter(color=\"black\", size=0.9, alpha=0.7, width = 0.2)+geom_point(inherit.aes = FALSE, data = subset(svr_data, Outlier == \"Outlier\"), aes(x = concentration, y  = value), size = 0.9, color = \"gray65\", shape = 19)+theme_bw()+theme(panel.grid.minor = element_blank(),plot.title = element_text(size=18, hjust=0.5), aspect.ratio=1, text = element_text(size=18))+ggtitle(group)\n",
    "}\n",
    "\n",
    "ggarrange(SVR_plot[[1]], SVR_plot[[2]], nrow=1,common.legend = TRUE, legend = \"none\")"
   ]
  },
  {
   "cell_type": "markdown",
   "id": "6f28ddb9",
   "metadata": {},
   "source": [
    "\n"
   ]
  }
 ],
 "metadata": {
  "jupytext": {
   "cell_metadata_filter": "-all",
   "main_language": "R",
   "notebook_metadata_filter": "-all"
  }
 },
 "nbformat": 4,
 "nbformat_minor": 5
}
